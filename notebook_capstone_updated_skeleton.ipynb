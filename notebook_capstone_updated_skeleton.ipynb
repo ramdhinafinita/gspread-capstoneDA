{
 "cells": [
  {
   "cell_type": "markdown",
   "metadata": {},
   "source": [
    "# Opening Files\n",
    "\n",
    "Bagian ini adalah bagian dimana kita mengambil data kita dari google spreadsheet.  "
   ]
  },
  {
   "cell_type": "code",
   "execution_count": null,
   "metadata": {},
   "outputs": [],
   "source": [
    "#!pip install gspread oauth2client"
   ]
  },
  {
   "cell_type": "markdown",
   "metadata": {},
   "source": [
    "**Import Library**"
   ]
  },
  {
   "cell_type": "code",
   "execution_count": 3,
   "metadata": {},
   "outputs": [],
   "source": [
    "import gspread\n",
    "from oauth2client.service_account import ServiceAccountCredentials\n",
    "from google.oauth2.service_account import Credentials\n",
    "import pandas as pd\n",
    "import numpy as np\n",
    "import datetime\n",
    "import re"
   ]
  },
  {
   "cell_type": "markdown",
   "metadata": {},
   "source": [
    "**Read data from spreadsheet**"
   ]
  },
  {
   "cell_type": "code",
   "execution_count": null,
   "metadata": {},
   "outputs": [],
   "source": [
    "# Masukkan scopes\n",
    "\n",
    "scopes = [\n",
    "    'https://www.googleapis.com/auth/spreadsheets',\n",
    "    'https://www.googleapis.com/auth/drive'\n",
    "]\n",
    "\n",
    "# Masukkan credentials\n",
    "\n",
    "credentials = Credentials.from_service_account_file(\n",
    "    'gs_credentials.json', # file credentials dengan format JSON\n",
    "    scopes=scopes\n",
    ")\n",
    "\n",
    "# Buka file spreadsheet\n",
    "\n",
    "gc = gspread.authorize(credentials)\n",
    "sh = gc.open_by_url(\"________________________________\") # Link Spreadsheet\n",
    "worksheet = sh.worksheet(\"________\") # Nama sheet\n",
    "list_of_lists = worksheet.get_all_values()"
   ]
  },
  {
   "cell_type": "markdown",
   "metadata": {},
   "source": [
    "Sekarang kita sudah mendapatkan data dari google spreadsheet yang tersimpan dalam sebuah list. List ini memiliki nama `list_of_lists`. Tugas kita berikutnya adalah mengubah `list_of_lists` ini ke bentuk dataframe. "
   ]
  },
  {
   "cell_type": "code",
   "execution_count": 77,
   "metadata": {},
   "outputs": [],
   "source": [
    "data = pd.DataFrame(_______) # ubah list_of_list menjadi dataframe\n",
    "data.columns = ______ # ubah baris pertama menjadi nama kolom\n",
    "data = data.iloc[1:]\n",
    "\n",
    "data.reset_index(drop=True, inplace=True) # Mereset penomoran index"
   ]
  },
  {
   "cell_type": "markdown",
   "metadata": {},
   "source": [
    "# Analisis Data\n",
    "\n",
    "Data kita tidak sepenuhnya bersih. Contohnya pada kolom `Country and Regions Name` masih tercampur-campur, ada nama negara dan ada nama bagian. Pada bagian ini, kita hanya akan menggunakan nama negara saja. Itu artinya, nama-nama lain selain nama negara harus kita hapus. \n",
    "\n",
    "Nama-nama yang perlu dihapus ini kita namakan dengan `deleted_countries`."
   ]
  },
  {
   "cell_type": "markdown",
   "metadata": {},
   "source": [
    "**Data Cleansing**"
   ]
  },
  {
   "cell_type": "markdown",
   "metadata": {},
   "source": [
    "**Task 1:** Hapus nama-nama selain nama negara pada kolom Country and Regions Name  "
   ]
  },
  {
   "cell_type": "code",
   "execution_count": 90,
   "metadata": {},
   "outputs": [],
   "source": [
    "deleted_countries = ['Africa', 'Central Africa', 'East Africa', 'North Africa', 'Southern Africa', 'West Africa', 'Sub-Saharan Africa', '',\n",
    "                     'African Development Bank', 'http://dataportal.opendataforafrica.org/mhuiccf/african-economic-outlook-january-2019']\n",
    "data = _______________________________"
   ]
  },
  {
   "cell_type": "markdown",
   "metadata": {},
   "source": [
    "Data yang berasal dari spreadsheet, tidak akan memiliki nilai NaN. Semua nilai NaN akan disimpan sebagai \"\". Nilai \"\" harus diganti dengan nilai NaN. "
   ]
  },
  {
   "cell_type": "code",
   "execution_count": 91,
   "metadata": {},
   "outputs": [
    {
     "name": "stderr",
     "output_type": "stream",
     "text": [
      "<ipython-input-91-335c9edf7222>:10: SettingWithCopyWarning: \n",
      "A value is trying to be set on a copy of a slice from a DataFrame\n",
      "\n",
      "See the caveats in the documentation: https://pandas.pydata.org/pandas-docs/stable/user_guide/indexing.html#returning-a-view-versus-a-copy\n",
      "  data.iloc[:, 7:] = np.float32(numbers)\n"
     ]
    }
   ],
   "source": [
    "import numpy as np\n",
    "\n",
    "numbers = data.iloc[:,7:]\n",
    "\n",
    "for col in numbers.columns:\n",
    "    for row, val in enumerate(numbers[col]):\n",
    "        if val == '':\n",
    "            numbers.loc[row, col] = np.nan\n",
    "            \n",
    "data.iloc[:, 7:] = np.float32(numbers)            "
   ]
  },
  {
   "cell_type": "markdown",
   "metadata": {},
   "source": [
    "# Analisis \n",
    "\n",
    "**Bandingkan nilai ekspor dari negara dengan GDP terbesar dan terkecil mulai tahun 2016 sampai 2020 dengan menggunakan barplot?**"
   ]
  },
  {
   "cell_type": "markdown",
   "metadata": {},
   "source": [
    "### Negara Dengan GDP Terbesar dan Terkecil\n",
    "\n",
    "Langkah pertama yang harus kita lakukan untuk menjawab tantangan diatas adalah mencari tahu terlebih dahulu negara dengan GDP terbesar dan terkecil. Untuk itu kita akan membuat dataframe baru bernama `data_gdp`. "
   ]
  },
  {
   "cell_type": "markdown",
   "metadata": {},
   "source": [
    "**Data Wrangling**"
   ]
  },
  {
   "cell_type": "markdown",
   "metadata": {},
   "source": [
    "**Task 2:** Buat dataframe baru dengan menyeleksi kolom `Indicators Name` berdasarkan indikator `Gross domestic product`"
   ]
  },
  {
   "cell_type": "code",
   "execution_count": null,
   "metadata": {},
   "outputs": [],
   "source": [
    "data_gdp = ______________________________\n",
    "data_gdp.head()"
   ]
  },
  {
   "cell_type": "markdown",
   "metadata": {},
   "source": [
    "**Task 3:** Carilah negara mana yang memiliki GDP terbersar dan terkecil pada tahun 2020"
   ]
  },
  {
   "cell_type": "code",
   "execution_count": 106,
   "metadata": {
    "ExecuteTime": {
     "end_time": "2022-11-17T19:44:34.288519Z",
     "start_time": "2022-11-17T19:44:34.270539Z"
    }
   },
   "outputs": [],
   "source": [
    "country_max = __________________________________\n",
    "country_min = __________________________________"
   ]
  },
  {
   "cell_type": "markdown",
   "metadata": {},
   "source": [
    "Karena kita sekarang sudah mendapatkan nama negara dengan GDP terbesar dan terkecil di Afrika, maka sekarang kita bisa mencari tahu progress ekspor kedua negara ini. "
   ]
  },
  {
   "cell_type": "markdown",
   "metadata": {},
   "source": [
    "**Data Visualization**"
   ]
  },
  {
   "cell_type": "markdown",
   "metadata": {},
   "source": [
    "**Task 4:** Carilah progress ekspor dari negara dengan GDP terbesar dan terkecil kemudian buatlah visualisasinya"
   ]
  },
  {
   "cell_type": "code",
   "execution_count": 171,
   "metadata": {},
   "outputs": [],
   "source": [
    "indicator = \"Exports of goods and services (% of GDP)\"\n",
    "\n",
    "display_data = ____________________________\n",
    "display_data.index = _________________________"
   ]
  },
  {
   "cell_type": "code",
   "execution_count": 173,
   "metadata": {},
   "outputs": [],
   "source": [
    "display_data = display_data.transpose()\n",
    "display_data.index.name = \"_____\""
   ]
  },
  {
   "cell_type": "code",
   "execution_count": 175,
   "metadata": {},
   "outputs": [
    {
     "data": {
      "text/plain": [
       "<AxesSubplot:title={'center':'Exports of goods and services (% of GDP)'}, xlabel='Year'>"
      ]
     },
     "execution_count": 175,
     "metadata": {},
     "output_type": "execute_result"
    },
    {
     "data": {
      "image/png": "[encoded data removed]",
      "text/plain": [
       "<Figure size 432x288 with 1 Axes>"
      ]
     },
     "metadata": {
      "needs_background": "light"
     },
     "output_type": "display_data"
    }
   ],
   "source": [
    "display_data.plot(title=______)"
   ]
  },
  {
   "cell_type": "markdown",
   "metadata": {},
   "source": [
    "# Uploading Files\n",
    "\n",
    "Selain bisa digunakan untuk mengimport data, library `gspread` juga bisa digunakan untuk mengupload data. Pada tahapan ini kita akan belajar bagaimana caranya mengupload dataframe kita dari python notebook ke dalam google spreadsheet. \n",
    "\n",
    "Dataframe yang akan kita upload disini adalah dataframe yang berisikan informasi tentang persentase ekspor dari GDP dari semua negara di Afrika.  "
   ]
  },
  {
   "cell_type": "markdown",
   "metadata": {},
   "source": [
    "**Task 5:** Buatlah dataframe baru dengan informasi presentase ekspor GDP dari semua negara di Afrika."
   ]
  },
  {
   "cell_type": "code",
   "execution_count": 157,
   "metadata": {},
   "outputs": [],
   "source": [
    "upload_data = ____________________\n",
    "upload_data.index = ___________________\n",
    "upload_data.reset_index(inplace=True)"
   ]
  },
  {
   "cell_type": "code",
   "execution_count": 159,
   "metadata": {},
   "outputs": [
    {
     "data": {
      "text/html": [
       "<div>\n",
       "<style scoped>\n",
       "    .dataframe tbody tr th:only-of-type {\n",
       "        vertical-align: middle;\n",
       "    }\n",
       "\n",
       "    .dataframe tbody tr th {\n",
       "        vertical-align: top;\n",
       "    }\n",
       "\n",
       "    .dataframe thead th {\n",
       "        text-align: right;\n",
       "    }\n",
       "</style>\n",
       "<table border=\"1\" class=\"dataframe\">\n",
       "  <thead>\n",
       "    <tr style=\"text-align: right;\">\n",
       "      <th></th>\n",
       "      <th>Country and Regions Name</th>\n",
       "      <th>1980</th>\n",
       "      <th>1981</th>\n",
       "      <th>1982</th>\n",
       "      <th>1983</th>\n",
       "      <th>1984</th>\n",
       "      <th>1985</th>\n",
       "      <th>1986</th>\n",
       "      <th>1987</th>\n",
       "      <th>1988</th>\n",
       "      <th>...</th>\n",
       "      <th>2011</th>\n",
       "      <th>2012</th>\n",
       "      <th>2013</th>\n",
       "      <th>2014</th>\n",
       "      <th>2015</th>\n",
       "      <th>2016</th>\n",
       "      <th>2017</th>\n",
       "      <th>2018</th>\n",
       "      <th>2019</th>\n",
       "      <th>2020</th>\n",
       "    </tr>\n",
       "  </thead>\n",
       "  <tbody>\n",
       "    <tr>\n",
       "      <th>0</th>\n",
       "      <td>Algeria</td>\n",
       "      <td>34.339691</td>\n",
       "      <td>34.559776</td>\n",
       "      <td>31.231066</td>\n",
       "      <td>28.70916</td>\n",
       "      <td>26.367777</td>\n",
       "      <td>22.328875</td>\n",
       "      <td>13.37925</td>\n",
       "      <td>14.930294</td>\n",
       "      <td>16.328688</td>\n",
       "      <td>...</td>\n",
       "      <td>38.786953</td>\n",
       "      <td>36.890549</td>\n",
       "      <td>33.209896</td>\n",
       "      <td>30.219118</td>\n",
       "      <td>23.173372</td>\n",
       "      <td>20.859726</td>\n",
       "      <td>22.636528</td>\n",
       "      <td>25.013565</td>\n",
       "      <td>25.097723</td>\n",
       "      <td>24.926678</td>\n",
       "    </tr>\n",
       "    <tr>\n",
       "      <th>1</th>\n",
       "      <td>Angola</td>\n",
       "      <td>55.451172</td>\n",
       "      <td>55.678562</td>\n",
       "      <td>47.826458</td>\n",
       "      <td>45.892853</td>\n",
       "      <td>43.294628</td>\n",
       "      <td>35.665833</td>\n",
       "      <td>24.649136</td>\n",
       "      <td>35.776562</td>\n",
       "      <td>35.691086</td>\n",
       "      <td>...</td>\n",
       "      <td>60.669949</td>\n",
       "      <td>55.940132</td>\n",
       "      <td>50.747086</td>\n",
       "      <td>44.69503</td>\n",
       "      <td>29.754599</td>\n",
       "      <td>28.124588</td>\n",
       "      <td>28.135605</td>\n",
       "      <td>33.528667</td>\n",
       "      <td>33.023579</td>\n",
       "      <td>31.060801</td>\n",
       "    </tr>\n",
       "    <tr>\n",
       "      <th>2</th>\n",
       "      <td>Benin</td>\n",
       "      <td>13.193213</td>\n",
       "      <td>18.04941</td>\n",
       "      <td>19.970177</td>\n",
       "      <td>15.09609</td>\n",
       "      <td>19.318743</td>\n",
       "      <td>22.266552</td>\n",
       "      <td>15.70294</td>\n",
       "      <td>14.372381</td>\n",
       "      <td>12.945098</td>\n",
       "      <td>...</td>\n",
       "      <td>21.381035</td>\n",
       "      <td>24.593065</td>\n",
       "      <td>28.1527</td>\n",
       "      <td>32.076927</td>\n",
       "      <td>28.192801</td>\n",
       "      <td>28.706234</td>\n",
       "      <td>31.019224</td>\n",
       "      <td>31.357412</td>\n",
       "      <td>32.840088</td>\n",
       "      <td>34.586765</td>\n",
       "    </tr>\n",
       "    <tr>\n",
       "      <th>3</th>\n",
       "      <td>Botswana</td>\n",
       "      <td>43.656136</td>\n",
       "      <td>48.115505</td>\n",
       "      <td>47.015636</td>\n",
       "      <td>55.837601</td>\n",
       "      <td>57.265427</td>\n",
       "      <td>60.246014</td>\n",
       "      <td>57.214516</td>\n",
       "      <td>56.659431</td>\n",
       "      <td>55.162319</td>\n",
       "      <td>...</td>\n",
       "      <td>49.950523</td>\n",
       "      <td>49.250732</td>\n",
       "      <td>61.522598</td>\n",
       "      <td>60.710049</td>\n",
       "      <td>53.033394</td>\n",
       "      <td>49.749428</td>\n",
       "      <td>39.827709</td>\n",
       "      <td>38.883461</td>\n",
       "      <td>39.132915</td>\n",
       "      <td>38.943363</td>\n",
       "    </tr>\n",
       "    <tr>\n",
       "      <th>4</th>\n",
       "      <td>Burkina Faso</td>\n",
       "      <td>8.136542</td>\n",
       "      <td>8.923958</td>\n",
       "      <td>8.361965</td>\n",
       "      <td>8.028555</td>\n",
       "      <td>11.391939</td>\n",
       "      <td>9.981747</td>\n",
       "      <td>8.615894</td>\n",
       "      <td>9.648495</td>\n",
       "      <td>10.20252</td>\n",
       "      <td>...</td>\n",
       "      <td>25.004446</td>\n",
       "      <td>27.272568</td>\n",
       "      <td>26.193142</td>\n",
       "      <td>25.936071</td>\n",
       "      <td>26.046247</td>\n",
       "      <td>30.28511</td>\n",
       "      <td>29.375164</td>\n",
       "      <td>29.315632</td>\n",
       "      <td>29.015039</td>\n",
       "      <td>29.810497</td>\n",
       "    </tr>\n",
       "  </tbody>\n",
       "</table>\n",
       "<p>5 rows × 42 columns</p>\n",
       "</div>"
      ],
      "text/plain": [
       "0 Country and Regions Name       1980       1981       1982       1983  \\\n",
       "0                  Algeria  34.339691  34.559776  31.231066   28.70916   \n",
       "1                   Angola  55.451172  55.678562  47.826458  45.892853   \n",
       "2                    Benin  13.193213   18.04941  19.970177   15.09609   \n",
       "3                 Botswana  43.656136  48.115505  47.015636  55.837601   \n",
       "4             Burkina Faso   8.136542   8.923958   8.361965   8.028555   \n",
       "\n",
       "0       1984       1985       1986       1987       1988  ...       2011  \\\n",
       "0  26.367777  22.328875   13.37925  14.930294  16.328688  ...  38.786953   \n",
       "1  43.294628  35.665833  24.649136  35.776562  35.691086  ...  60.669949   \n",
       "2  19.318743  22.266552   15.70294  14.372381  12.945098  ...  21.381035   \n",
       "3  57.265427  60.246014  57.214516  56.659431  55.162319  ...  49.950523   \n",
       "4  11.391939   9.981747   8.615894   9.648495   10.20252  ...  25.004446   \n",
       "\n",
       "0       2012       2013       2014       2015       2016       2017  \\\n",
       "0  36.890549  33.209896  30.219118  23.173372  20.859726  22.636528   \n",
       "1  55.940132  50.747086   44.69503  29.754599  28.124588  28.135605   \n",
       "2  24.593065    28.1527  32.076927  28.192801  28.706234  31.019224   \n",
       "3  49.250732  61.522598  60.710049  53.033394  49.749428  39.827709   \n",
       "4  27.272568  26.193142  25.936071  26.046247   30.28511  29.375164   \n",
       "\n",
       "0       2018       2019       2020  \n",
       "0  25.013565  25.097723  24.926678  \n",
       "1  33.528667  33.023579  31.060801  \n",
       "2  31.357412  32.840088  34.586765  \n",
       "3  38.883461  39.132915  38.943363  \n",
       "4  29.315632  29.015039  29.810497  \n",
       "\n",
       "[5 rows x 42 columns]"
      ]
     },
     "execution_count": 159,
     "metadata": {},
     "output_type": "execute_result"
    }
   ],
   "source": [
    "upload_data.head()"
   ]
  },
  {
   "cell_type": "code",
   "execution_count": 168,
   "metadata": {},
   "outputs": [],
   "source": [
    "upload_data.fillna(\"\", inplace=True)"
   ]
  },
  {
   "cell_type": "markdown",
   "metadata": {},
   "source": [
    "**Task 6:** Upload data yang sudah bersih di spreadsheet"
   ]
  },
  {
   "cell_type": "code",
   "execution_count": 170,
   "metadata": {},
   "outputs": [
    {
     "data": {
      "text/plain": [
       "{'spreadsheetId': '1_z06QpzSGUNPpwNVPofnNOFkjk5zEh4YPrTr8h3JZdo',\n",
       " 'updatedRange': \"'Worksheet Lorem new'!A1:AP53\",\n",
       " 'updatedRows': 53,\n",
       " 'updatedColumns': 42,\n",
       " 'updatedCells': 2226}"
      ]
     },
     "execution_count": 170,
     "metadata": {},
     "output_type": "execute_result"
    }
   ],
   "source": [
    "new_worksheet = sh.add_worksheet(title=\"Worksheet Lorem new\", rows=100, cols=20)\n",
    "new_worksheet.update([__________.columns.values.tolist()] + __________.values.tolist())"
   ]
  }
 ],
 "metadata": {
  "kernelspec": {
   "display_name": "Python 3.9.13 ('base')",
   "language": "python",
   "name": "python3"
  },
  "language_info": {
   "codemirror_mode": {
    "name": "ipython",
    "version": 3
   },
   "file_extension": ".py",
   "mimetype": "text/x-python",
   "name": "python",
   "nbconvert_exporter": "python",
   "pygments_lexer": "ipython3",
   "version": "3.9.13"
  },
  "varInspector": {
   "cols": {
    "lenName": 16,
    "lenType": 16,
    "lenVar": 40
   },
   "kernels_config": {
    "python": {
     "delete_cmd_postfix": "",
     "delete_cmd_prefix": "del ",
     "library": "var_list.py",
     "varRefreshCmd": "print(var_dic_list())"
    },
    "r": {
     "delete_cmd_postfix": ") ",
     "delete_cmd_prefix": "rm(",
     "library": "var_list.r",
     "varRefreshCmd": "cat(var_dic_list()) "
    }
   },
   "types_to_exclude": [
    "module",
    "function",
    "builtin_function_or_method",
    "instance",
    "_Feature"
   ],
   "window_display": false
  },
  "vscode": {
   "interpreter": {
    "hash": "dc07d24e2f18896857f0b2a651fe84ba40ce7b297e58d8804a308c8039f752a6"
   }
  }
 },
 "nbformat": 4,
 "nbformat_minor": 2
}
